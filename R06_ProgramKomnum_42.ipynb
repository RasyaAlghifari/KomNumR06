{
 "cells": [
  {
   "cell_type": "markdown",
   "id": "e312690e",
   "metadata": {},
   "source": [
    "### Integrasi dengan Metode Gauss 2 Titik\n",
    "\n",
    "Kita akan menghitung luas dan error relatif dari fungsi berikut menggunakan metode integral Gaussian 2 titik:\n",
    "\n",
    "$$\n",
    "f(x) = 3x^5 - 8x^4\n",
    "$$\n",
    "\n",
    "Diketahui:\n",
    "- Batas bawah: $a = 4$\n",
    "- Batas atas: $b = 16$\n",
    "- Luas sebenarnya: $L_{true} = 6710476.8$"
   ]
  },
  {
   "cell_type": "code",
   "execution_count": 7,
   "id": "gauss-2-point",
   "metadata": {},
   "outputs": [],
   "source": [
    "from math import sqrt\n",
    "\n",
    "class TwoPointGaussianQuadrature():\n",
    "    def __init__(self, f, a, b):\n",
    "        self.f = f\n",
    "        self.a = a\n",
    "        self.b = b\n",
    "\n",
    "    def convert_x(self, u):\n",
    "        return (1/2) * (self.b - self.a) * u + (1/2) * (self.b + self.a)\n",
    "\n",
    "    def calculate_f(self, x):\n",
    "        return self.f(x)\n",
    "\n",
    "    def g_of_u(self, u):\n",
    "        x = self.convert_x(u)\n",
    "        f = self.calculate_f(x)\n",
    "        return (1/2) * (self.b - self.a) * f\n",
    "\n",
    "    def l(self):\n",
    "        u1 = -1 / sqrt(3)\n",
    "        u2 = 1 / sqrt(3)\n",
    "        g_u1 = self.g_of_u(u1)\n",
    "        g_u2 = self.g_of_u(u2)\n",
    "        return g_u1 + g_u2"
   ]
  },
  {
   "cell_type": "markdown",
   "id": "07bf87d1",
   "metadata": {},
   "source": [
    "### Hitung Luas Integral"
   ]
  },
  {
   "cell_type": "code",
   "execution_count": 8,
   "id": "hitung-luas",
   "metadata": {},
   "outputs": [
    {
     "name": "stdout",
     "output_type": "stream",
     "text": [
      "Luas : 6514176.0\n"
     ]
    }
   ],
   "source": [
    "luas = TwoPointGaussianQuadrature(lambda x: 3 * x**5 - 8 * x**4, 4, 16)\n",
    "L = luas.l()\n",
    "print(\"Luas :\", round(L, 2))"
   ]
  },
  {
   "cell_type": "markdown",
   "id": "3fd435a7",
   "metadata": {},
   "source": [
    "### Hitung Error True\n",
    "Error dihitung dengan rumus:\n",
    "$$E_t = \\frac{|L_{true} - L|}{L_{true}} \\times 100\\\\%$$"
   ]
  },
  {
   "cell_type": "code",
   "execution_count": 9,
   "id": "hitung-error",
   "metadata": {},
   "outputs": [
    {
     "name": "stdout",
     "output_type": "stream",
     "text": [
      "Error True : 2.93 %\n"
     ]
    }
   ],
   "source": [
    "L_true = 6710476.8\n",
    "Et = (abs(L_true - L) / L_true) * 100\n",
    "print(\"Error True :\", round(Et, 2),\"%\")"
   ]
  }
 ],
 "metadata": {
  "kernelspec": {
   "display_name": ".venv",
   "language": "python",
   "name": "python3"
  },
  "language_info": {
   "codemirror_mode": {
    "name": "ipython",
    "version": 3
   },
   "file_extension": ".py",
   "mimetype": "text/x-python",
   "name": "python",
   "nbconvert_exporter": "python",
   "pygments_lexer": "ipython3",
   "version": "3.13.3"
  }
 },
 "nbformat": 4,
 "nbformat_minor": 5
}
